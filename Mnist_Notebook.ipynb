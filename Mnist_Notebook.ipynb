{
  "nbformat": 4,
  "nbformat_minor": 0,
  "metadata": {
    "colab": {
      "name": "Mnist Notebook",
      "provenance": [],
      "authorship_tag": "ABX9TyN3FLaOFb71+zyy9A8J/1/T",
      "include_colab_link": true
    },
    "kernelspec": {
      "name": "python3",
      "display_name": "Python 3"
    }
  },
  "cells": [
    {
      "cell_type": "markdown",
      "metadata": {
        "id": "view-in-github",
        "colab_type": "text"
      },
      "source": [
        "<a href=\"https://colab.research.google.com/github/Precillieo/Tensorflow-Computer-Vision-/blob/main/Mnist_Notebook.ipynb\" target=\"_parent\"><img src=\"https://colab.research.google.com/assets/colab-badge.svg\" alt=\"Open In Colab\"/></a>"
      ]
    },
    {
      "cell_type": "code",
      "metadata": {
        "id": "yD4BDfModIsW"
      },
      "source": [
        "import tensorflow as tf\r\n",
        "import matplotlib.pyplot as plt\r\n",
        "from tensorflow.keras.datasets import mnist\r\n",
        "from tensorflow.keras.models import Sequential\r\n",
        "from tensorflow.keras.layers import Dense, MaxPooling2D, Conv2D, Flatten, Dropout\r\n",
        "from tensorflow.keras.optimizers import RMSprop\r\n",
        "from tensorflow.keras import backend as K"
      ],
      "execution_count": 1,
      "outputs": []
    },
    {
      "cell_type": "code",
      "metadata": {
        "id": "kTE3YLiNeeSw"
      },
      "source": [
        "(train_images, train_labels), (test_images, test_labels)= mnist.load_data()"
      ],
      "execution_count": 2,
      "outputs": []
    },
    {
      "cell_type": "code",
      "metadata": {
        "id": "viLdG7jJgZOC"
      },
      "source": [
        "if K.image_data_format() == 'Channels_first':\r\n",
        "  train_images= train_images.reshape(train_images.shape[0], 1, 28, 28)\r\n",
        "  test_images= test_images.reshape(test_images.shape[0], 1, 28, 28)\r\n",
        "  input_shape= (1,28,28)\r\n",
        "else:\r\n",
        "  train_images= train_images.reshape(train_images.shape[0], 28, 28, 1)\r\n",
        "  test_images= test_images.reshape(test_images.shape[0], 28, 28, 1)\r\n",
        "  input_shape= (28, 28, 1)\r\n"
      ],
      "execution_count": 3,
      "outputs": []
    },
    {
      "cell_type": "code",
      "metadata": {
        "id": "psyH3LkWhr-S"
      },
      "source": [
        "train_images= train_images.astype('float32')\r\n",
        "test_images= test_images.astype('float32')"
      ],
      "execution_count": 4,
      "outputs": []
    },
    {
      "cell_type": "code",
      "metadata": {
        "id": "xQA4yFN8iBAN"
      },
      "source": [
        "train_images /= 255\r\n",
        "test_images /= 255"
      ],
      "execution_count": 5,
      "outputs": []
    },
    {
      "cell_type": "code",
      "metadata": {
        "id": "6AKgqZXsiJuo"
      },
      "source": [
        "train_labels= tf.keras.utils.to_categorical(train_labels, 10)\r\n",
        "test_labels= tf.keras.utils.to_categorical(test_labels, 10)"
      ],
      "execution_count": 6,
      "outputs": []
    },
    {
      "cell_type": "code",
      "metadata": {
        "colab": {
          "base_uri": "https://localhost:8080/",
          "height": 297
        },
        "id": "QQWeIOqVi54g",
        "outputId": "52a56e1a-4e4f-4a0d-e38f-fa7e4401c69d"
      },
      "source": [
        "def display_images(number):\r\n",
        "  print(train_labels[number])\r\n",
        "  label= train_labels[number].argmax(axis= 0)\r\n",
        "  image= train_images[number].reshape([28,28])\r\n",
        "  plt.title(' Label: %d' % (label))\r\n",
        "  plt.imshow(image, cmap=plt.get_cmap('gray_r'))\r\n",
        "  plt.show()\r\n",
        "\r\n",
        "display_images(1235)"
      ],
      "execution_count": 7,
      "outputs": [
        {
          "output_type": "stream",
          "text": [
            "[0. 0. 0. 0. 0. 0. 0. 0. 0. 1.]\n"
          ],
          "name": "stdout"
        },
        {
          "output_type": "display_data",
          "data": {
            "image/png": "[encoded data removed]",
            "text/plain": [
              "<Figure size 432x288 with 1 Axes>"
            ]
          },
          "metadata": {
            "tags": [],
            "needs_background": "light"
          }
        }
      ]
    },
    {
      "cell_type": "code",
      "metadata": {
        "id": "jB3ma2hWk0V5"
      },
      "source": [
        "model= Sequential()\r\n",
        "model.add(Conv2D(32, (3,3), activation= 'relu', input_shape= input_shape))\r\n",
        "model.add(Conv2D(64, (3, 3), activation='relu'))\r\n",
        "model.add(MaxPooling2D(pool_size= (2,2)))\r\n",
        "model.add(Dropout(0.25))\r\n",
        "model.add(Flatten())\r\n",
        "model.add(Dense(128, activation= 'relu'))\r\n",
        "model.add(Dropout(0.25))\r\n",
        "model.add(Dense(10, activation= 'softmax'))\r\n"
      ],
      "execution_count": 8,
      "outputs": []
    },
    {
      "cell_type": "code",
      "metadata": {
        "colab": {
          "base_uri": "https://localhost:8080/"
        },
        "id": "JLoy9UXinOd4",
        "outputId": "b26cd367-d419-4ca4-d1de-10eef06117dc"
      },
      "source": [
        "model.summary()"
      ],
      "execution_count": 9,
      "outputs": [
        {
          "output_type": "stream",
          "text": [
            "Model: \"sequential\"\n",
            "_________________________________________________________________\n",
            "Layer (type)                 Output Shape              Param #   \n",
            "=================================================================\n",
            "conv2d (Conv2D)              (None, 26, 26, 32)        320       \n",
            "_________________________________________________________________\n",
            "conv2d_1 (Conv2D)            (None, 24, 24, 64)        18496     \n",
            "_________________________________________________________________\n",
            "max_pooling2d (MaxPooling2D) (None, 12, 12, 64)        0         \n",
            "_________________________________________________________________\n",
            "dropout (Dropout)            (None, 12, 12, 64)        0         \n",
            "_________________________________________________________________\n",
            "flatten (Flatten)            (None, 9216)              0         \n",
            "_________________________________________________________________\n",
            "dense (Dense)                (None, 128)               1179776   \n",
            "_________________________________________________________________\n",
            "dropout_1 (Dropout)          (None, 128)               0         \n",
            "_________________________________________________________________\n",
            "dense_1 (Dense)              (None, 10)                1290      \n",
            "=================================================================\n",
            "Total params: 1,199,882\n",
            "Trainable params: 1,199,882\n",
            "Non-trainable params: 0\n",
            "_________________________________________________________________\n"
          ],
          "name": "stdout"
        }
      ]
    },
    {
      "cell_type": "code",
      "metadata": {
        "id": "bXnK0dYnnvnK"
      },
      "source": [
        "model.compile(optimizer= 'adam', loss= 'categorical_crossentropy', metrics= ['accuracy'])"
      ],
      "execution_count": 10,
      "outputs": []
    },
    {
      "cell_type": "code",
      "metadata": {
        "colab": {
          "base_uri": "https://localhost:8080/"
        },
        "id": "BFn6WaQhoQSM",
        "outputId": "65cdd32d-12c9-401a-fd46-c4b0a15c61eb"
      },
      "source": [
        "history= model.fit(train_images, train_labels,\r\n",
        "                   epochs= 10, batch_size= 32,\r\n",
        "                   verbose= 2,\r\n",
        "                   validation_data= (test_images, test_labels))"
      ],
      "execution_count": 11,
      "outputs": [
        {
          "output_type": "stream",
          "text": [
            "Epoch 1/10\n",
            "1875/1875 - 151s - loss: 0.1404 - accuracy: 0.9577 - val_loss: 0.0405 - val_accuracy: 0.9866\n",
            "Epoch 2/10\n",
            "1875/1875 - 151s - loss: 0.0550 - accuracy: 0.9833 - val_loss: 0.0376 - val_accuracy: 0.9881\n",
            "Epoch 3/10\n",
            "1875/1875 - 150s - loss: 0.0403 - accuracy: 0.9871 - val_loss: 0.0340 - val_accuracy: 0.9886\n",
            "Epoch 4/10\n",
            "1875/1875 - 153s - loss: 0.0311 - accuracy: 0.9900 - val_loss: 0.0344 - val_accuracy: 0.9894\n",
            "Epoch 5/10\n",
            "1875/1875 - 151s - loss: 0.0239 - accuracy: 0.9920 - val_loss: 0.0353 - val_accuracy: 0.9896\n",
            "Epoch 6/10\n",
            "1875/1875 - 153s - loss: 0.0198 - accuracy: 0.9938 - val_loss: 0.0433 - val_accuracy: 0.9882\n",
            "Epoch 7/10\n",
            "1875/1875 - 150s - loss: 0.0170 - accuracy: 0.9944 - val_loss: 0.0390 - val_accuracy: 0.9896\n",
            "Epoch 8/10\n",
            "1875/1875 - 151s - loss: 0.0155 - accuracy: 0.9946 - val_loss: 0.0337 - val_accuracy: 0.9907\n",
            "Epoch 9/10\n",
            "1875/1875 - 152s - loss: 0.0141 - accuracy: 0.9955 - val_loss: 0.0399 - val_accuracy: 0.9895\n",
            "Epoch 10/10\n",
            "1875/1875 - 152s - loss: 0.0126 - accuracy: 0.9959 - val_loss: 0.0393 - val_accuracy: 0.9897\n"
          ],
          "name": "stdout"
        }
      ]
    },
    {
      "cell_type": "code",
      "metadata": {
        "colab": {
          "base_uri": "https://localhost:8080/"
        },
        "id": "2juUZUvKoyCS",
        "outputId": "2fcd7ec8-00d8-4439-d549-9300658915f8"
      },
      "source": [
        "score = model.evaluate(test_images, test_labels, verbose=0)\r\n",
        "print('Test loss:', score[0])\r\n",
        "print('Test accuracy:', score[1])"
      ],
      "execution_count": 12,
      "outputs": [
        {
          "output_type": "stream",
          "text": [
            "Test loss: 0.039269402623176575\n",
            "Test accuracy: 0.9897000193595886\n"
          ],
          "name": "stdout"
        }
      ]
    },
    {
      "cell_type": "code",
      "metadata": {
        "id": "UnXZUxvtqgna"
      },
      "source": [
        ""
      ],
      "execution_count": 12,
      "outputs": []
    }
  ]
}