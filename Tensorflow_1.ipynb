{
  "nbformat": 4,
  "nbformat_minor": 0,
  "metadata": {
    "colab": {
      "name": "Tensorflow 1",
      "provenance": [],
      "toc_visible": true,
      "authorship_tag": "ABX9TyNTjF7BtPkMmxDp0i08AAoN",
      "include_colab_link": true
    },
    "kernelspec": {
      "name": "python3",
      "display_name": "Python 3"
    }
  },
  "cells": [
    {
      "cell_type": "markdown",
      "metadata": {
        "id": "view-in-github",
        "colab_type": "text"
      },
      "source": [
        "<a href=\"https://colab.research.google.com/github/Precillieo/Tensorflow-Computer-Vision-/blob/main/Tensorflow_1.ipynb\" target=\"_parent\"><img src=\"https://colab.research.google.com/assets/colab-badge.svg\" alt=\"Open In Colab\"/></a>"
      ]
    },
    {
      "cell_type": "code",
      "metadata": {
        "id": "D1gXTD_97no9"
      },
      "source": [
        "import os\n",
        "import tensorflow as tf\n",
        "import cProfile "
      ],
      "execution_count": 1,
      "outputs": []
    },
    {
      "cell_type": "code",
      "metadata": {
        "colab": {
          "base_uri": "https://localhost:8080/"
        },
        "id": "hdDt-cSf85zD",
        "outputId": "cb73c893-ddb8-4800-c7c3-af8a592d1680"
      },
      "source": [
        "tf.executing_eagerly() #In Tensorflow 2.0, eager execution is enabled by default"
      ],
      "execution_count": 2,
      "outputs": [
        {
          "output_type": "execute_result",
          "data": {
            "text/plain": [
              "True"
            ]
          },
          "metadata": {
            "tags": []
          },
          "execution_count": 2
        }
      ]
    },
    {
      "cell_type": "code",
      "metadata": {
        "colab": {
          "base_uri": "https://localhost:8080/"
        },
        "id": "WYj1smul9Etd",
        "outputId": "658d83c2-fb32-43b6-91aa-a26418f474f0"
      },
      "source": [
        "x= [[2.]]\n",
        "m= tf.matmul(x,x)\n",
        "print (\"Hello, {}\".format(m)) #TensorFlow operations"
      ],
      "execution_count": 3,
      "outputs": [
        {
          "output_type": "stream",
          "text": [
            "Hello, [[4.]]\n"
          ],
          "name": "stdout"
        }
      ]
    },
    {
      "cell_type": "code",
      "metadata": {
        "colab": {
          "base_uri": "https://localhost:8080/"
        },
        "id": "EnRz0kno-LS1",
        "outputId": "add23b20-7233-4640-caef-9e4977a02264"
      },
      "source": [
        "a= tf.constant([[1,2], [3,4]])\n",
        "print(a)     #TensorFlow tf.math operations convert Python objects and NumPy arrays to tf.Tensor objects"
      ],
      "execution_count": 4,
      "outputs": [
        {
          "output_type": "stream",
          "text": [
            "tf.Tensor(\n",
            "[[1 2]\n",
            " [3 4]], shape=(2, 2), dtype=int32)\n"
          ],
          "name": "stdout"
        }
      ]
    },
    {
      "cell_type": "code",
      "metadata": {
        "colab": {
          "base_uri": "https://localhost:8080/"
        },
        "id": "S9vuoQgwFz1b",
        "outputId": "aa74d838-e8f8-407a-d4cb-33b65e932522"
      },
      "source": [
        "b= tf.add(a,1)\n",
        "print(b)     "
      ],
      "execution_count": 5,
      "outputs": [
        {
          "output_type": "stream",
          "text": [
            "tf.Tensor(\n",
            "[[2 3]\n",
            " [4 5]], shape=(2, 2), dtype=int32)\n"
          ],
          "name": "stdout"
        }
      ]
    },
    {
      "cell_type": "code",
      "metadata": {
        "colab": {
          "base_uri": "https://localhost:8080/"
        },
        "id": "NUfIwvbloikb",
        "outputId": "82f2b146-ec6b-479f-ee21-2ca1fdfa4f71"
      },
      "source": [
        "c= tf.multiply(a, 2)\n",
        "print(c) "
      ],
      "execution_count": 6,
      "outputs": [
        {
          "output_type": "stream",
          "text": [
            "tf.Tensor(\n",
            "[[2 4]\n",
            " [6 8]], shape=(2, 2), dtype=int32)\n"
          ],
          "name": "stdout"
        }
      ]
    },
    {
      "cell_type": "code",
      "metadata": {
        "colab": {
          "base_uri": "https://localhost:8080/"
        },
        "id": "x9o6WfXpH0lI",
        "outputId": "3f2a16e4-5d61-4719-b970-48d696804bbf"
      },
      "source": [
        "#operation overloading\n",
        "print(a*b)"
      ],
      "execution_count": 7,
      "outputs": [
        {
          "output_type": "stream",
          "text": [
            "tf.Tensor(\n",
            "[[ 2  6]\n",
            " [12 20]], shape=(2, 2), dtype=int32)\n"
          ],
          "name": "stdout"
        }
      ]
    },
    {
      "cell_type": "code",
      "metadata": {
        "colab": {
          "base_uri": "https://localhost:8080/"
        },
        "id": "JdroHSECIK2Z",
        "outputId": "2bb5c3f2-afe2-43a4-8762-7adef2ba8b8f"
      },
      "source": [
        "import numpy as np\n",
        "c= np.multiply(a,b)\n",
        "print(c)"
      ],
      "execution_count": 8,
      "outputs": [
        {
          "output_type": "stream",
          "text": [
            "[[ 2  6]\n",
            " [12 20]]\n"
          ],
          "name": "stdout"
        }
      ]
    },
    {
      "cell_type": "code",
      "metadata": {
        "colab": {
          "base_uri": "https://localhost:8080/"
        },
        "id": "DMlh_bqKIZoK",
        "outputId": "3c632307-0898-4974-9aab-b1170d18b7c5"
      },
      "source": [
        "print(a.numpy())  #tf.Tensor.numpy method returns the object's value as a NumPy ndarray."
      ],
      "execution_count": 9,
      "outputs": [
        {
          "output_type": "stream",
          "text": [
            "[[1 2]\n",
            " [3 4]]\n"
          ],
          "name": "stdout"
        }
      ]
    },
    {
      "cell_type": "markdown",
      "metadata": {
        "id": "JasASrLKKNGC"
      },
      "source": [
        "# Dynamic Control \n",
        "## Writing Fizzbuzz in Tensorflow"
      ]
    },
    {
      "cell_type": "code",
      "metadata": {
        "colab": {
          "base_uri": "https://localhost:8080/"
        },
        "id": "ifbhRRtgIj36",
        "outputId": "789af00e-b75c-48c5-84f4-2ad8a89863f5"
      },
      "source": [
        "def fizzbuzz(max_num):\n",
        "  counter= tf.constant(0)\n",
        "  max_num= tf.convert_to_tensor(max_num) \n",
        "  for num in range(1, max_num.numpy() + 1):\n",
        "    num= tf.constant(num)\n",
        "    if int (num % 3)==0 and int (num % 5) == 0:\n",
        "      print('fizzbuzz')\n",
        "    elif int (num % 3) == 0:\n",
        "      print('fizz')\n",
        "    elif int (num % 5)== 0:\n",
        "      print ('buzz')\n",
        "    else:\n",
        "      print(num.numpy())\n",
        "    counter += 1      \n",
        "\n",
        "fizzbuzz(12)"
      ],
      "execution_count": 10,
      "outputs": [
        {
          "output_type": "stream",
          "text": [
            "1\n",
            "2\n",
            "fizz\n",
            "4\n",
            "buzz\n",
            "fizz\n",
            "7\n",
            "8\n",
            "fizz\n",
            "buzz\n",
            "11\n",
            "fizz\n"
          ],
          "name": "stdout"
        }
      ]
    },
    {
      "cell_type": "markdown",
      "metadata": {
        "id": "_MvvphlwQFwn"
      },
      "source": [
        "# Eager Training__ Computing Gradients"
      ]
    },
    {
      "cell_type": "code",
      "metadata": {
        "colab": {
          "base_uri": "https://localhost:8080/"
        },
        "id": "POC6aYa3MzM8",
        "outputId": "ccbb719d-2b11-45b8-ef4b-7b5e53b36384"
      },
      "source": [
        "w= tf.Variable([[1.]])\n",
        "with tf.GradientTape() as tape:\n",
        "  loss= w * w\n",
        "\n",
        "grad= tape.gradient(loss, w)\n",
        "print(grad)\n",
        "\n",
        "# tf.GradientTape is to trace operations for computing gradients "
      ],
      "execution_count": 11,
      "outputs": [
        {
          "output_type": "stream",
          "text": [
            "tf.Tensor([[2.]], shape=(1, 1), dtype=float32)\n"
          ],
          "name": "stdout"
        }
      ]
    },
    {
      "cell_type": "markdown",
      "metadata": {
        "id": "i-lea-azQVNG"
      },
      "source": [
        "# Train a Model\n",
        "This example creates a multi-layer model that classifies the standard MNIST handwritten digits. It demonstrates the optimizer and layer APIs to build trainable graphs in an eager execution environment"
      ]
    },
    {
      "cell_type": "code",
      "metadata": {
        "id": "NiwnoGucP79o",
        "colab": {
          "base_uri": "https://localhost:8080/"
        },
        "outputId": "d15ce8a1-0a6a-4cfe-a13c-123fb72c92ec"
      },
      "source": [
        "#fetch and format the mnist dataset\n",
        "(mnist_images, mnist_labels), _= tf.keras.datasets.mnist.load_data()\n",
        "\n",
        "df= tf.data.Dataset.from_tensor_slices(\n",
        "    (tf.cast(mnist_images[...,tf.newaxis]/255, tf.float32),\n",
        "     tf.cast(mnist_labels, tf.int32)))\n",
        "\n",
        "df= df.shuffle(1000).batch(32)"
      ],
      "execution_count": 12,
      "outputs": [
        {
          "output_type": "stream",
          "text": [
            "Downloading data from https://storage.googleapis.com/tensorflow/tf-keras-datasets/mnist.npz\n",
            "11493376/11490434 [==============================] - 0s 0us/step\n"
          ],
          "name": "stdout"
        }
      ]
    },
    {
      "cell_type": "code",
      "metadata": {
        "id": "3fHrrs14UWPl"
      },
      "source": [
        "#Build the model\n",
        "mnist_model= tf.keras.Sequential([tf.keras.layers.Conv2D(16,[3,3], activation= 'relu', \n",
        "                                                         input_shape= (None, None, 1)),\n",
        "                                  tf.keras.layers.Conv2D(16,[3,3], activation= 'relu'),\n",
        "                                  tf.keras.layers.GlobalAveragePooling2D(),\n",
        "                                  tf.keras.layers.Dense(10),\n",
        "                                  ])\n"
      ],
      "execution_count": 13,
      "outputs": []
    },
    {
      "cell_type": "code",
      "metadata": {
        "colab": {
          "base_uri": "https://localhost:8080/"
        },
        "id": "1nkBNXnkaGpp",
        "outputId": "ebec4c44-8392-4d08-b99d-34eb74b7b5b6"
      },
      "source": [
        "#Even without training, call the model and inspect the output in eager execution\n",
        "\n",
        "for images, labels in df.take(2):\n",
        "  print(\"Logists\", mnist_model(images[0:1]).numpy())"
      ],
      "execution_count": 14,
      "outputs": [
        {
          "output_type": "stream",
          "text": [
            "Logists [[-0.02096592 -0.02837003 -0.01462397  0.02220962  0.00420284  0.01059656\n",
            "  -0.02710742 -0.02066312  0.05300326  0.03725768]]\n",
            "Logists [[-0.01458901 -0.01615399 -0.0087649   0.0107384   0.00319695  0.00704011\n",
            "  -0.01554692 -0.00714759  0.02848515  0.02399837]]\n"
          ],
          "name": "stdout"
        }
      ]
    },
    {
      "cell_type": "markdown",
      "metadata": {
        "id": "ec0X3HAPbxSJ"
      },
      "source": [
        "# Training Loop Implementation"
      ]
    },
    {
      "cell_type": "code",
      "metadata": {
        "id": "TTQytF6YbYcB"
      },
      "source": [
        "optimizer= tf.keras.optimizers.Adam()\n",
        "loss_object= tf.keras.losses.SparseCategoricalCrossentropy(from_logits= True)\n",
        "\n",
        "loss_history= []"
      ],
      "execution_count": 15,
      "outputs": []
    },
    {
      "cell_type": "code",
      "metadata": {
        "id": "U_L-UZCkc4sY"
      },
      "source": [
        "def train_step(images, labels):\n",
        "  with tf.GradientTape() as tape:\n",
        "    logits= mnist_model(images, training= True)\n",
        "\n",
        "    # Add Assert to check the shape of the output\n",
        "    # Use the assert function in tf.debugging to check if a condition holds up\n",
        "    tf.debugging.assert_equal(logits.shape, (32, 10))\n",
        "\n",
        "    loss_value= loss_object(labels, logits)\n",
        "    loss_history.append(loss_value.numpy().mean())\n",
        "\n",
        "    grads= tape.gradient(loss_value, mnist_model.trainable_variables)\n",
        "    optimizer.apply_gradients(zip(grads, mnist_model.trainable_variables))"
      ],
      "execution_count": 16,
      "outputs": []
    },
    {
      "cell_type": "code",
      "metadata": {
        "id": "WBJtT5Lyg5WC"
      },
      "source": [
        "def train(epochs):\n",
        "  for epoch in range(epochs):\n",
        "    for (batch, (image, labels)) in enumerate(df):\n",
        "      train_step(images, labels)\n",
        "    print (\"Epoch {} finished\".format(epoch))"
      ],
      "execution_count": 17,
      "outputs": []
    },
    {
      "cell_type": "code",
      "metadata": {
        "colab": {
          "base_uri": "https://localhost:8080/"
        },
        "id": "3QDMZKq2iiik",
        "outputId": "08be4f63-08d5-4f5d-d400-78a2fc079668"
      },
      "source": [
        "train(epochs=3)"
      ],
      "execution_count": 18,
      "outputs": [
        {
          "output_type": "stream",
          "text": [
            "Epoch 0 finished\n",
            "Epoch 1 finished\n",
            "Epoch 2 finished\n"
          ],
          "name": "stdout"
        }
      ]
    },
    {
      "cell_type": "code",
      "metadata": {
        "colab": {
          "base_uri": "https://localhost:8080/",
          "height": 296
        },
        "id": "LJ4hnouhir11",
        "outputId": "c9118fe4-e5e5-45e2-d968-6e328a093b2d"
      },
      "source": [
        "import matplotlib.pyplot as plt\n",
        "plt.plot(loss_history)\n",
        "plt.xlabel('Batch #')\n",
        "plt.ylabel('Loss[entropy')"
      ],
      "execution_count": 19,
      "outputs": [
        {
          "output_type": "execute_result",
          "data": {
            "text/plain": [
              "Text(0, 0.5, 'Loss[entropy')"
            ]
          },
          "metadata": {
            "tags": []
          },
          "execution_count": 19
        },
        {
          "output_type": "display_data",
          "data": {
            "image/png": "[encoded data removed]",
            "text/plain": [
              "<Figure size 432x288 with 1 Axes>"
            ]
          },
          "metadata": {
            "tags": [],
            "needs_background": "light"
          }
        }
      ]
    },
    {
      "cell_type": "markdown",
      "metadata": {
        "id": "GF2V1hrOnBvm"
      },
      "source": [
        "# Variable and Optimizer as Objects. \n",
        "The collections of variables can be encapsulated into layers or models, along with methods that operate on them.\n",
        "\n",
        "The main difference between layers and models is that models add methods like Model.fit, Model.evaluate, and Model.save."
      ]
    },
    {
      "cell_type": "code",
      "metadata": {
        "id": "8ugzXBxtkljn"
      },
      "source": [
        "class Linear(tf.keras.Model):\n",
        "  def __init__(self):\n",
        "    super(Linear, self).__init__()\n",
        "    self.W= tf.Variable(5., name= \"weights\")\n",
        "    self.B= tf.Variable(10., name= \"Bias\")\n",
        "  def call (self, inputs):\n",
        "    return inputs * self.W + self.B \n"
      ],
      "execution_count": 20,
      "outputs": []
    },
    {
      "cell_type": "code",
      "metadata": {
        "id": "imLiyMkarNkX"
      },
      "source": [
        "# A toy dataset of points around 3 * x + 2\n",
        "NUM_EXAMPLES= 2000\n",
        "training_inputs= tf.random.normal([NUM_EXAMPLES])\n",
        "noise= tf.random.normal([NUM_EXAMPLES])\n",
        "training_outputs= training_inputs * 3 + 2 + noise\n",
        "\n",
        "#The loss function to be optimized\n",
        "def loss(model, inputs, targets):\n",
        "  error= model(inputs) - targets\n",
        "  return tf.reduce_mean(tf.square(error))\n",
        "\n",
        "def grad(model, inputs, targets):\n",
        "  with tf.GradientTape() as tape:\n",
        "    loss_value= loss(model, inputs, targets) \n",
        "    return tape.gradient(loss_value, [model.W, model.B]) \n"
      ],
      "execution_count": 21,
      "outputs": []
    },
    {
      "cell_type": "markdown",
      "metadata": {
        "id": "rT0gyYI6u6_4"
      },
      "source": [
        "# Next:\n",
        "\n",
        "* Create the model.\n",
        "* The Derivatives of a loss function with respect to model parameters.\n",
        "* A strategy for updating the variables based on the derivatives."
      ]
    },
    {
      "cell_type": "code",
      "metadata": {
        "colab": {
          "base_uri": "https://localhost:8080/"
        },
        "id": "XSX2pon2ur6p",
        "outputId": "1a505125-a136-4ed0-9152-d23f3763e92d"
      },
      "source": [
        "model= Linear()\n",
        "optimizer= tf.keras.optimizers.SGD(learning_rate= 0.01)\n",
        "print(\"Initial loss: {:.3f}\".format(loss(model, training_inputs, training_outputs)))\n",
        "\n",
        "steps= 300\n",
        "for i in range(steps):\n",
        "  grads= grad(model, training_inputs, training_outputs)\n",
        "  optimizer.apply_gradients(zip(grads, [model.W, model.B]))\n",
        "\n",
        "  if i % 20 == 0:\n",
        "    print(\"Loss at step {:03d}: {:.3f}\".format(i, loss(model, training_inputs, training_outputs)))"
      ],
      "execution_count": 22,
      "outputs": [
        {
          "output_type": "stream",
          "text": [
            "Initial loss: 68.454\n",
            "Loss at step 000: 65.808\n",
            "Loss at step 020: 30.103\n",
            "Loss at step 040: 14.063\n",
            "Loss at step 060: 6.856\n",
            "Loss at step 080: 3.618\n",
            "Loss at step 100: 2.163\n",
            "Loss at step 120: 1.509\n",
            "Loss at step 140: 1.216\n",
            "Loss at step 160: 1.083\n",
            "Loss at step 180: 1.024\n",
            "Loss at step 200: 0.997\n",
            "Loss at step 220: 0.985\n",
            "Loss at step 240: 0.980\n",
            "Loss at step 260: 0.978\n",
            "Loss at step 280: 0.977\n"
          ],
          "name": "stdout"
        }
      ]
    },
    {
      "cell_type": "code",
      "metadata": {
        "colab": {
          "base_uri": "https://localhost:8080/"
        },
        "id": "rJUEF19ixHJ-",
        "outputId": "1d9f2007-89e6-402e-ad3d-17d663b92892"
      },
      "source": [
        "print(\"Final loss: {:.3f}\".format(loss(model, training_inputs, training_outputs)))"
      ],
      "execution_count": 23,
      "outputs": [
        {
          "output_type": "stream",
          "text": [
            "Final loss: 0.976\n"
          ],
          "name": "stdout"
        }
      ]
    },
    {
      "cell_type": "code",
      "metadata": {
        "colab": {
          "base_uri": "https://localhost:8080/"
        },
        "id": "QO_8OFHOyc_B",
        "outputId": "296686d4-56dc-4d64-dbb5-0eee1fec2d80"
      },
      "source": [
        "print(\"W = {}, B = {}\".format(model.W.numpy(), model.B.numpy()))"
      ],
      "execution_count": 24,
      "outputs": [
        {
          "output_type": "stream",
          "text": [
            "W = 2.966322660446167, B = 2.0202383995056152\n"
          ],
          "name": "stdout"
        }
      ]
    },
    {
      "cell_type": "markdown",
      "metadata": {
        "id": "xrQhxwMxy5mS"
      },
      "source": [
        "# Object Based Saving\n",
        "A tf.keras.Model includes a convenient save_weights method allowing you to easily create a checkpoint"
      ]
    },
    {
      "cell_type": "code",
      "metadata": {
        "colab": {
          "base_uri": "https://localhost:8080/"
        },
        "id": "JqS4DvljyrTV",
        "outputId": "5196481a-353a-4f0f-ec64-2c18ca0c1100"
      },
      "source": [
        "model.save_weights('weights')\n",
        "status= model.load_weights('weights')\n",
        "status"
      ],
      "execution_count": 25,
      "outputs": [
        {
          "output_type": "execute_result",
          "data": {
            "text/plain": [
              "<tensorflow.python.training.tracking.util.CheckpointLoadStatus at 0x7f19795b04a8>"
            ]
          },
          "metadata": {
            "tags": []
          },
          "execution_count": 25
        }
      ]
    },
    {
      "cell_type": "code",
      "metadata": {
        "colab": {
          "base_uri": "https://localhost:8080/"
        },
        "id": "tR-5-nFgIr8l",
        "outputId": "6000b5d0-ad69-4a84-da6a-f59170fb3150"
      },
      "source": [
        "x=tf.Variable(10.)\n",
        "checkpoint = tf.train.Checkpoint(x=x)\n",
        "checkpoint"
      ],
      "execution_count": 26,
      "outputs": [
        {
          "output_type": "execute_result",
          "data": {
            "text/plain": [
              "<tensorflow.python.training.tracking.util.Checkpoint at 0x7f19796134e0>"
            ]
          },
          "metadata": {
            "tags": []
          },
          "execution_count": 26
        }
      ]
    },
    {
      "cell_type": "code",
      "metadata": {
        "colab": {
          "base_uri": "https://localhost:8080/",
          "height": 35
        },
        "id": "J1FaM2liJiBR",
        "outputId": "f636d868-56da-401c-fbd6-969b4cfd6024"
      },
      "source": [
        "x.assign(2.)\n",
        "checkpoint_path= './ckpt/'\n",
        "checkpoint.save('./ckpt/')"
      ],
      "execution_count": 27,
      "outputs": [
        {
          "output_type": "execute_result",
          "data": {
            "application/vnd.google.colaboratory.intrinsic+json": {
              "type": "string"
            },
            "text/plain": [
              "'./ckpt/-1'"
            ]
          },
          "metadata": {
            "tags": []
          },
          "execution_count": 27
        }
      ]
    },
    {
      "cell_type": "code",
      "metadata": {
        "colab": {
          "base_uri": "https://localhost:8080/"
        },
        "id": "t8yZYEmrJ9X_",
        "outputId": "61504d12-e824-47b9-af27-274d4b576714"
      },
      "source": [
        "x.assign(11.)  # Change the variable after saving.\n",
        "\n",
        "# Restore values from the checkpoint\n",
        "checkpoint.restore(tf.train.latest_checkpoint(checkpoint_path))\n",
        "\n",
        "print(x)"
      ],
      "execution_count": 28,
      "outputs": [
        {
          "output_type": "stream",
          "text": [
            "<tf.Variable 'Variable:0' shape=() dtype=float32, numpy=2.0>\n"
          ],
          "name": "stdout"
        }
      ]
    },
    {
      "cell_type": "markdown",
      "metadata": {
        "id": "-t8E60jBKhC2"
      },
      "source": [
        "# tf.train.checkpoint\n",
        " for recording the state of a model, an optimizer, and global steps"
      ]
    },
    {
      "cell_type": "code",
      "metadata": {
        "colab": {
          "base_uri": "https://localhost:8080/"
        },
        "id": "7MimzLgRKPVd",
        "outputId": "5a5f1d2c-3596-40c8-c4cc-2a7d742cc6d9"
      },
      "source": [
        "model = tf.keras.Sequential([\n",
        "  tf.keras.layers.Conv2D(16,[3,3], activation='relu'),\n",
        "  tf.keras.layers.GlobalAveragePooling2D(),\n",
        "  tf.keras.layers.Dense(10)\n",
        "])\n",
        "\n",
        "optimizer = tf.keras.optimizers.Adam(learning_rate=0.001)\n",
        "checkpoint_dir = 'path/to/model_dir'\n",
        "if not os.path.exists(checkpoint_dir):\n",
        "  os.makedirs(checkpoint_dir)\n",
        "checkpoint_prefix = os.path.join(checkpoint_dir, \"ckpt\")\n",
        "root = tf.train.Checkpoint(optimizer=optimizer,\n",
        "                           model=model)\n",
        "\n",
        "root.save(checkpoint_prefix)\n",
        "root.restore(tf.train.latest_checkpoint(checkpoint_dir))"
      ],
      "execution_count": 29,
      "outputs": [
        {
          "output_type": "execute_result",
          "data": {
            "text/plain": [
              "<tensorflow.python.training.tracking.util.CheckpointLoadStatus at 0x7f197a405780>"
            ]
          },
          "metadata": {
            "tags": []
          },
          "execution_count": 29
        }
      ]
    },
    {
      "cell_type": "markdown",
      "metadata": {
        "id": "8WTVcJxFLpS9"
      },
      "source": [
        "# Object-Oriented Metrics"
      ]
    },
    {
      "cell_type": "code",
      "metadata": {
        "colab": {
          "base_uri": "https://localhost:8080/"
        },
        "id": "zL3g1oidLUPx",
        "outputId": "4eccddc1-a56c-4fcf-eddc-4d3022d87fbf"
      },
      "source": [
        "m = tf.keras.metrics.Mean(\"loss\")\n",
        "m(0)\n",
        "m(5)\n",
        "print(m.result())  # => 2.5\n",
        "m([8, 9])\n",
        "print(m.result())"
      ],
      "execution_count": 30,
      "outputs": [
        {
          "output_type": "stream",
          "text": [
            "tf.Tensor(2.5, shape=(), dtype=float32)\n",
            "tf.Tensor(5.5, shape=(), dtype=float32)\n"
          ],
          "name": "stdout"
        }
      ]
    },
    {
      "cell_type": "markdown",
      "metadata": {
        "id": "RfiuQImoMNXa"
      },
      "source": [
        "# Summaries and Tensorboard\n",
        "TensorBoard is a visualization tool for understanding, debugging and optimizing the model training process. It uses summary events that are written while executing the program.\n",
        "\n",
        "You can use tf.summary to record summaries of variable in eager execution. For example, to record summaries of loss once every 100 training steps "
      ]
    },
    {
      "cell_type": "code",
      "metadata": {
        "id": "S27usQPJL7Zk"
      },
      "source": [
        "logdir = \"./tb/\"\n",
        "writer = tf.summary.create_file_writer(logdir)\n",
        "\n",
        "steps = 1000\n",
        "with writer.as_default():  # or call writer.set_as_default() before the loop.\n",
        "  for i in range(steps):\n",
        "    step = i + 1\n",
        "    # Calculate loss with your real train function.\n",
        "    loss = 1 - 0.001 * step\n",
        "    if step % 100 == 0:\n",
        "      tf.summary.scalar('loss', loss, step=step)"
      ],
      "execution_count": 31,
      "outputs": []
    },
    {
      "cell_type": "code",
      "metadata": {
        "id": "N1Eq2FqvODbA",
        "colab": {
          "base_uri": "https://localhost:8080/"
        },
        "outputId": "e6454629-5c14-4298-9b05-67f535479877"
      },
      "source": [
        "ls tb/"
      ],
      "execution_count": 32,
      "outputs": [
        {
          "output_type": "stream",
          "text": [
            "events.out.tfevents.1606766446.2f48cdf3556c.136.619696.v2\n"
          ],
          "name": "stdout"
        }
      ]
    }
  ]
}