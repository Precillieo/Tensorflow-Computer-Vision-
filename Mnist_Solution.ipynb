{
  "nbformat": 4,
  "nbformat_minor": 0,
  "metadata": {
    "colab": {
      "name": "Mnist Solution",
      "provenance": [],
      "authorship_tag": "ABX9TyNK9iaWXrjN3Ff0ym3mYiIN",
      "include_colab_link": true
    },
    "kernelspec": {
      "name": "python3",
      "display_name": "Python 3"
    }
  },
  "cells": [
    {
      "cell_type": "markdown",
      "metadata": {
        "id": "view-in-github",
        "colab_type": "text"
      },
      "source": [
        "<a href=\"https://colab.research.google.com/github/Precillieo/Tensorflow-Computer-Vision-/blob/main/Mnist_Solution.ipynb\" target=\"_parent\"><img src=\"https://colab.research.google.com/assets/colab-badge.svg\" alt=\"Open In Colab\"/></a>"
      ]
    },
    {
      "cell_type": "code",
      "metadata": {
        "id": "yD4BDfModIsW"
      },
      "source": [
        "import tensorflow as tf\r\n",
        "import matplotlib.pyplot as plt\r\n",
        "from tensorflow.keras.datasets import mnist\r\n",
        "from tensorflow.keras.models import Sequential\r\n",
        "from tensorflow.keras.layers import Dense, MaxPooling2D, Conv2D, Flatten, Dropout\r\n",
        "from tensorflow.keras.optimizers import RMSprop\r\n",
        "from tensorflow.keras import backend as K"
      ],
      "execution_count": 1,
      "outputs": []
    },
    {
      "cell_type": "code",
      "metadata": {
        "id": "kTE3YLiNeeSw"
      },
      "source": [
        "(train_images, train_labels), (test_images, test_labels)= mnist.load_data()"
      ],
      "execution_count": 2,
      "outputs": []
    },
    {
      "cell_type": "code",
      "metadata": {
        "id": "viLdG7jJgZOC"
      },
      "source": [
        "if K.image_data_format() == 'Channels_first':\r\n",
        "  train_images= train_images.reshape(train_images.shape[0], 1, 28, 28)\r\n",
        "  test_images= test_images.reshape(test_images.shape[0], 1, 28, 28)\r\n",
        "  input_shape= (1,28,28)\r\n",
        "else:\r\n",
        "  train_images= train_images.reshape(train_images.shape[0], 28, 28, 1)\r\n",
        "  test_images= test_images.reshape(test_images.shape[0], 28, 28, 1)\r\n",
        "  input_shape= (28, 28, 1)\r\n"
      ],
      "execution_count": 3,
      "outputs": []
    },
    {
      "cell_type": "code",
      "metadata": {
        "id": "psyH3LkWhr-S"
      },
      "source": [
        "train_images= train_images.astype('float32')\r\n",
        "test_images= test_images.astype('float32')"
      ],
      "execution_count": 4,
      "outputs": []
    },
    {
      "cell_type": "code",
      "metadata": {
        "id": "xQA4yFN8iBAN"
      },
      "source": [
        "train_images /= 255\r\n",
        "test_images /= 255"
      ],
      "execution_count": 5,
      "outputs": []
    },
    {
      "cell_type": "code",
      "metadata": {
        "id": "6AKgqZXsiJuo"
      },
      "source": [
        "train_labels= tf.keras.utils.to_categorical(train_labels, 10)\r\n",
        "test_labels= tf.keras.utils.to_categorical(test_labels, 10)"
      ],
      "execution_count": 6,
      "outputs": []
    },
    {
      "cell_type": "code",
      "metadata": {
        "colab": {
          "base_uri": "https://localhost:8080/",
          "height": 297
        },
        "id": "QQWeIOqVi54g",
        "outputId": "8aef7520-e988-47fb-bec9-dcdc88bb9c32"
      },
      "source": [
        "def display_images(number):\r\n",
        "  print(train_labels[number])\r\n",
        "  label= train_labels[number].argmax(axis= 0)\r\n",
        "  image= train_images[number].reshape([28,28])\r\n",
        "  plt.title(' Label: %d' % (label))\r\n",
        "  plt.imshow(image, cmap=plt.get_cmap('gray_r'))\r\n",
        "  plt.show()\r\n",
        "\r\n",
        "display_images(1235)"
      ],
      "execution_count": 7,
      "outputs": [
        {
          "output_type": "stream",
          "text": [
            "[0. 0. 0. 0. 0. 0. 0. 0. 0. 1.]\n"
          ],
          "name": "stdout"
        },
        {
          "output_type": "display_data",
          "data": {
            "image/png": "[encoded data removed]",
            "text/plain": [
              "<Figure size 432x288 with 1 Axes>"
            ]
          },
          "metadata": {
            "tags": [],
            "needs_background": "light"
          }
        }
      ]
    },
    {
      "cell_type": "code",
      "metadata": {
        "id": "jB3ma2hWk0V5"
      },
      "source": [
        "model= Sequential()\r\n",
        "model.add(Conv2D(32, (3,3), activation= 'relu', input_shape= input_shape))\r\n",
        "model.add(Conv2D(64, (3, 3), activation='relu'))\r\n",
        "model.add(MaxPooling2D(pool_size= (2,2)))\r\n",
        "model.add(Dropout(0.25))\r\n",
        "model.add(Flatten())\r\n",
        "model.add(Dense(128, activation= 'relu'))\r\n",
        "model.add(Dropout(0.25))\r\n",
        "model.add(Dense(10, activation= 'softmax'))\r\n"
      ],
      "execution_count": 8,
      "outputs": []
    },
    {
      "cell_type": "code",
      "metadata": {
        "colab": {
          "base_uri": "https://localhost:8080/"
        },
        "id": "JLoy9UXinOd4",
        "outputId": "bec7758f-6309-497c-fc2c-8d4672452105"
      },
      "source": [
        "model.summary()"
      ],
      "execution_count": 9,
      "outputs": [
        {
          "output_type": "stream",
          "text": [
            "Model: \"sequential\"\n",
            "_________________________________________________________________\n",
            "Layer (type)                 Output Shape              Param #   \n",
            "=================================================================\n",
            "conv2d (Conv2D)              (None, 26, 26, 32)        320       \n",
            "_________________________________________________________________\n",
            "conv2d_1 (Conv2D)            (None, 24, 24, 64)        18496     \n",
            "_________________________________________________________________\n",
            "max_pooling2d (MaxPooling2D) (None, 12, 12, 64)        0         \n",
            "_________________________________________________________________\n",
            "dropout (Dropout)            (None, 12, 12, 64)        0         \n",
            "_________________________________________________________________\n",
            "flatten (Flatten)            (None, 9216)              0         \n",
            "_________________________________________________________________\n",
            "dense (Dense)                (None, 128)               1179776   \n",
            "_________________________________________________________________\n",
            "dropout_1 (Dropout)          (None, 128)               0         \n",
            "_________________________________________________________________\n",
            "dense_1 (Dense)              (None, 10)                1290      \n",
            "=================================================================\n",
            "Total params: 1,199,882\n",
            "Trainable params: 1,199,882\n",
            "Non-trainable params: 0\n",
            "_________________________________________________________________\n"
          ],
          "name": "stdout"
        }
      ]
    },
    {
      "cell_type": "code",
      "metadata": {
        "id": "bXnK0dYnnvnK"
      },
      "source": [
        "model.compile(optimizer= 'adam', loss= 'categorical_crossentropy', metrics= ['accuracy'])"
      ],
      "execution_count": 10,
      "outputs": []
    },
    {
      "cell_type": "code",
      "metadata": {
        "colab": {
          "base_uri": "https://localhost:8080/"
        },
        "id": "BFn6WaQhoQSM",
        "outputId": "db241222-01a1-4d22-d828-eb822e563d20"
      },
      "source": [
        "history= model.fit(train_images, train_labels,\r\n",
        "                   epochs= 12, batch_size= 32,\r\n",
        "                   verbose= 2,\r\n",
        "                   validation_data= (test_images, test_labels))"
      ],
      "execution_count": 11,
      "outputs": [
        {
          "output_type": "stream",
          "text": [
            "Epoch 1/12\n",
            "1875/1875 - 153s - loss: 0.1343 - accuracy: 0.9595 - val_loss: 0.0565 - val_accuracy: 0.9814\n",
            "Epoch 2/12\n",
            "1875/1875 - 152s - loss: 0.0528 - accuracy: 0.9836 - val_loss: 0.0322 - val_accuracy: 0.9898\n",
            "Epoch 3/12\n",
            "1875/1875 - 151s - loss: 0.0383 - accuracy: 0.9881 - val_loss: 0.0297 - val_accuracy: 0.9903\n",
            "Epoch 4/12\n",
            "1875/1875 - 151s - loss: 0.0297 - accuracy: 0.9904 - val_loss: 0.0345 - val_accuracy: 0.9885\n",
            "Epoch 5/12\n",
            "1875/1875 - 150s - loss: 0.0230 - accuracy: 0.9927 - val_loss: 0.0309 - val_accuracy: 0.9918\n",
            "Epoch 6/12\n",
            "1875/1875 - 151s - loss: 0.0197 - accuracy: 0.9936 - val_loss: 0.0320 - val_accuracy: 0.9908\n",
            "Epoch 7/12\n",
            "1875/1875 - 151s - loss: 0.0179 - accuracy: 0.9939 - val_loss: 0.0357 - val_accuracy: 0.9914\n",
            "Epoch 8/12\n",
            "1875/1875 - 151s - loss: 0.0153 - accuracy: 0.9951 - val_loss: 0.0375 - val_accuracy: 0.9901\n",
            "Epoch 9/12\n",
            "1875/1875 - 151s - loss: 0.0148 - accuracy: 0.9953 - val_loss: 0.0317 - val_accuracy: 0.9915\n",
            "Epoch 10/12\n",
            "1875/1875 - 152s - loss: 0.0123 - accuracy: 0.9956 - val_loss: 0.0362 - val_accuracy: 0.9906\n",
            "Epoch 11/12\n",
            "1875/1875 - 152s - loss: 0.0119 - accuracy: 0.9960 - val_loss: 0.0313 - val_accuracy: 0.9929\n",
            "Epoch 12/12\n",
            "1875/1875 - 152s - loss: 0.0112 - accuracy: 0.9961 - val_loss: 0.0420 - val_accuracy: 0.9911\n"
          ],
          "name": "stdout"
        }
      ]
    },
    {
      "cell_type": "code",
      "metadata": {
        "colab": {
          "base_uri": "https://localhost:8080/"
        },
        "id": "2juUZUvKoyCS",
        "outputId": "db64d7d4-ed5a-43ee-8d82-ad5326ce6fd7"
      },
      "source": [
        "score = model.evaluate(test_images, test_labels, verbose=0)\r\n",
        "print('Test loss:', score[0])\r\n",
        "print('Test accuracy:', score[1])"
      ],
      "execution_count": 12,
      "outputs": [
        {
          "output_type": "stream",
          "text": [
            "Test loss: 0.04201088100671768\n",
            "Test accuracy: 0.991100013256073\n"
          ],
          "name": "stdout"
        }
      ]
    },
    {
      "cell_type": "code",
      "metadata": {
        "colab": {
          "base_uri": "https://localhost:8080/",
          "height": 552
        },
        "id": "UnXZUxvtqgna",
        "outputId": "50503e5e-f5c1-4c2d-a008-3fa2939f5d3a"
      },
      "source": [
        "acc = history.history['accuracy']\r\n",
        "val_acc = history.history['val_accuracy']\r\n",
        "\r\n",
        "loss = history.history['loss']\r\n",
        "val_loss = history.history['val_loss']\r\n",
        "\r\n",
        "epochs_range = range(1, len(acc) + 1)\r\n",
        "#epochs_range = range(epochs)\r\n",
        "\r\n",
        "plt.figure(figsize=(12, 9))\r\n",
        "plt.subplot(1, 2, 1)\r\n",
        "plt.plot(epochs_range, acc,'bo', label='Training Accuracy')\r\n",
        "plt.plot(epochs_range, val_acc, 'b', label='Validation Accuracy')\r\n",
        "plt.legend(loc='lower right')\r\n",
        "plt.title('Training and Validation Accuracy')\r\n",
        "\r\n",
        "plt.subplot(1, 2, 2)\r\n",
        "plt.plot(epochs_range, loss, 'bo', label='Training Loss')\r\n",
        "plt.plot(epochs_range, val_loss, 'b', label='Validation Loss')\r\n",
        "plt.legend(loc='upper right')\r\n",
        "plt.title('Training and Validation Loss')\r\n",
        "plt.show()"
      ],
      "execution_count": 23,
      "outputs": [
        {
          "output_type": "display_data",
          "data": {
            "image/png": "[encoded data removed]",
            "text/plain": [
              "<Figure size 864x648 with 2 Axes>"
            ]
          },
          "metadata": {
            "tags": [],
            "needs_background": "light"
          }
        }
      ]
    },
    {
      "cell_type": "code",
      "metadata": {
        "id": "WVV8QlKcFPMr"
      },
      "source": [
        ""
      ],
      "execution_count": null,
      "outputs": []
    }
  ]
}