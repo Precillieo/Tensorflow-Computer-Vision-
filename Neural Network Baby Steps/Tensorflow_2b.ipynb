{
  "nbformat": 4,
  "nbformat_minor": 0,
  "metadata": {
    "colab": {
      "name": "Tensorflow_2b",
      "provenance": [],
      "collapsed_sections": []
    },
    "kernelspec": {
      "name": "python3",
      "display_name": "Python 3"
    }
  },
  "cells": [
    {
      "cell_type": "markdown",
      "metadata": {
        "id": "ywtoecMgK2-p"
      },
      "source": [
        "# Tensorflow on a Classification Problem(Titanic)\n",
        "\n",
        "Build a predictive model which is able to determine peoples survival using Tensorflow and Keras"
      ]
    },
    {
      "cell_type": "code",
      "metadata": {
        "id": "sR_kFgdyi9wA"
      },
      "source": [
        "import numpy as np\n",
        "import pandas as pd\n",
        "from sklearn.preprocessing import LabelEncoder\n",
        "from sklearn.model_selection import train_test_split\n",
        "\n",
        "import tensorflow.compat.v1 as tf\n",
        "tf.disable_eager_execution()"
      ],
      "execution_count": 1,
      "outputs": []
    },
    {
      "cell_type": "code",
      "metadata": {
        "id": "ePJo33Wii9sU"
      },
      "source": [
        "train= pd.read_csv('/content/drive/MyDrive/Titanic/train.txt')\n",
        "test= pd.read_csv('/content/drive/MyDrive/Titanic/test.txt')"
      ],
      "execution_count": 2,
      "outputs": []
    },
    {
      "cell_type": "code",
      "metadata": {
        "id": "YtMiO2ySVulS"
      },
      "source": [
        "train[\"Age\"].fillna(train['Age'].mean(),inplace=True)\n",
        "test[\"Age\"].fillna(test['Age'].mean(),inplace=True)"
      ],
      "execution_count": 3,
      "outputs": []
    },
    {
      "cell_type": "code",
      "metadata": {
        "id": "KiahOfy0cJVZ"
      },
      "source": [
        "train[\"Cabin\"].fillna(\"Unknown\",inplace=True)\n",
        "test[\"Cabin\"].fillna(\"Unknown\",inplace=True)"
      ],
      "execution_count": 4,
      "outputs": []
    },
    {
      "cell_type": "code",
      "metadata": {
        "id": "xLnAguqIccOt"
      },
      "source": [
        "train[\"Embarked\"].fillna(\"Embarked.mode()\",inplace=True)\n",
        "test[\"Fare\"].fillna(\"Fare.mean()\",inplace=True)"
      ],
      "execution_count": 5,
      "outputs": []
    },
    {
      "cell_type": "code",
      "metadata": {
        "colab": {
          "base_uri": "https://localhost:8080/"
        },
        "id": "wrz99VSbfBaK",
        "outputId": "ec293739-d4e7-4408-b484-4e9ffdab5df2"
      },
      "source": [
        "train.dtypes"
      ],
      "execution_count": 6,
      "outputs": [
        {
          "output_type": "execute_result",
          "data": {
            "text/plain": [
              "PassengerId      int64\n",
              "Survived         int64\n",
              "Pclass           int64\n",
              "Name            object\n",
              "Sex             object\n",
              "Age            float64\n",
              "SibSp            int64\n",
              "Parch            int64\n",
              "Ticket          object\n",
              "Fare           float64\n",
              "Cabin           object\n",
              "Embarked        object\n",
              "dtype: object"
            ]
          },
          "metadata": {
            "tags": []
          },
          "execution_count": 6
        }
      ]
    },
    {
      "cell_type": "code",
      "metadata": {
        "id": "pkHpUJ_Lcxjp"
      },
      "source": [
        "cols= ('Name', 'Sex', 'Ticket', 'Cabin', 'Embarked')\n",
        "for x in cols:\n",
        "  le= LabelEncoder()\n",
        "  train[x]= le.fit_transform(train[x].values)\n"
      ],
      "execution_count": 7,
      "outputs": []
    },
    {
      "cell_type": "code",
      "metadata": {
        "colab": {
          "base_uri": "https://localhost:8080/"
        },
        "id": "xy0705ZkgkfH",
        "outputId": "28bf644a-4e0a-45b3-d855-d16037f81fe9"
      },
      "source": [
        "test.dtypes"
      ],
      "execution_count": 8,
      "outputs": [
        {
          "output_type": "execute_result",
          "data": {
            "text/plain": [
              "PassengerId      int64\n",
              "Pclass           int64\n",
              "Name            object\n",
              "Sex             object\n",
              "Age            float64\n",
              "SibSp            int64\n",
              "Parch            int64\n",
              "Ticket          object\n",
              "Fare            object\n",
              "Cabin           object\n",
              "Embarked        object\n",
              "dtype: object"
            ]
          },
          "metadata": {
            "tags": []
          },
          "execution_count": 8
        }
      ]
    },
    {
      "cell_type": "code",
      "metadata": {
        "id": "H2b_9w4PfqD8"
      },
      "source": [
        "col= ('Name', 'Sex', 'Fare', 'Ticket', 'Cabin', 'Embarked')\n",
        "for y in col:\n",
        "  le= LabelEncoder()\n",
        "  test[y]= le.fit_transform(test[y].values.astype(str))"
      ],
      "execution_count": 9,
      "outputs": []
    },
    {
      "cell_type": "code",
      "metadata": {
        "id": "B_TTLNHcgM5j"
      },
      "source": [
        "M=train.drop(\"Survived\", axis=1)\n",
        "N=train[\"Survived\"]"
      ],
      "execution_count": 10,
      "outputs": []
    },
    {
      "cell_type": "code",
      "metadata": {
        "id": "5hiqp0nqhNn1"
      },
      "source": [
        "train_x, val_x, train_y, val_y= train_test_split(M, N, test_size= 0.2, random_state= 0)"
      ],
      "execution_count": 11,
      "outputs": []
    },
    {
      "cell_type": "code",
      "metadata": {
        "colab": {
          "base_uri": "https://localhost:8080/"
        },
        "id": "MnoFsEPFj-7S",
        "outputId": "cbd2eb22-2d17-4712-9694-e91ce520900c"
      },
      "source": [
        "train_x.shape"
      ],
      "execution_count": 12,
      "outputs": [
        {
          "output_type": "execute_result",
          "data": {
            "text/plain": [
              "(712, 11)"
            ]
          },
          "metadata": {
            "tags": []
          },
          "execution_count": 12
        }
      ]
    },
    {
      "cell_type": "markdown",
      "metadata": {
        "id": "Z8LQch8Dm8lB"
      },
      "source": [
        "## Create Placeholders and set the batches"
      ]
    },
    {
      "cell_type": "code",
      "metadata": {
        "id": "sncrlXuZhvaD"
      },
      "source": [
        "X= tf.placeholder(tf.float32, shape= (None, 9), name= 'x')\n",
        "y= tf.placeholder(tf.float32, shape= (None, 2), name= 'y')\n",
        "\n",
        "batch_size= 100\n",
        "n_batches= int(np.ceil(712/batch_size))\n",
        "\n",
        "def fetch_batch(batch_index):\n",
        "  if batch_index < n_batches-1:\n",
        "    start= batch_index * batch_size\n",
        "    stop= batch_size + start\n",
        "    x_batch= train_x[start:stop]\n",
        "    y_batch= train_y[start:stop]\n",
        "  else:\n",
        "    start= batch_index * batch_size\n",
        "    x_batch= train_x[start:]\n",
        "    y_batch= train_y[start:]  \n",
        "    return x_batch, y_batch\n",
        "\n",
        "a, b= fetch_batch(7)"
      ],
      "execution_count": 13,
      "outputs": []
    },
    {
      "cell_type": "markdown",
      "metadata": {
        "id": "xBF_hzMhnH0n"
      },
      "source": [
        "## Build The Neural Network"
      ]
    },
    {
      "cell_type": "code",
      "metadata": {
        "id": "-CJtKiNdmsAV"
      },
      "source": [
        "n_inputs= 11 #number of inputs\n",
        "h1= 100      # first hidden layer\n",
        "h2= 300      # second hidden layer\n",
        "n_output= 2   #last layer\n",
        "\n",
        "def neuron_layer(X, n_neurons, name, activation= None):\n",
        "  with tf.name_scope(name):\n",
        "    n_inputs= int (X.get_shape()[1])\n",
        "    stddev= 2/np.sqrt(n_inputs)\n",
        "    init= tf.truncated_normal((n_inputs, n_neurons), stddev= stddev)\n",
        "    W= tf.Variable(init, name= 'weights')\n",
        "    b= tf.Variable(tf.zeros([n_neurons]), name= 'biases')\n",
        "    z= tf.matmul(X,W) + b\n",
        "\n",
        "    if activation== 'relu':\n",
        "      return tf.nn.relu(z)\n",
        "\n",
        "    else:\n",
        "      return z  \n",
        "\n",
        "#creating active connection between the tensors\n",
        "with tf.name_scope('NeuralNet'):\n",
        "  hidden1= neuron_layer(X, h1, 'hidden1', activation= 'relu')  \n",
        "  hidden2= neuron_layer(hidden1, h2, 'hidden2', activation= 'relu')\n",
        "  logits= neuron_layer(hidden2, n_output, 'outputs')    "
      ],
      "execution_count": 14,
      "outputs": []
    },
    {
      "cell_type": "markdown",
      "metadata": {
        "id": "sCuXmYlCqR0f"
      },
      "source": [
        "## Setting Loss Function and Optimizer"
      ]
    },
    {
      "cell_type": "code",
      "metadata": {
        "id": "yy9M4fQBpsET"
      },
      "source": [
        "with tf.name_scope('loss'):\n",
        "  #This is used for a multiclass classification as output neuron is set to 2\n",
        "  xentropy= tf.nn.softmax_cross_entropy_with_logits_v2(labels= y, logits= logits)\n",
        "  loss= tf.reduce_mean(xentropy, name= 'loss')\n",
        "\n",
        "#learning rate which is advisable to fall within 0 and 1\n",
        "learning_rate= 0.01\n",
        "\n",
        "#optimizers\n",
        "with tf.name_scope('train'):\n",
        "  optimizer= tf.train.GradientDescentOptimizer(learning_rate= learning_rate)\n",
        "  training_op= optimizer.minimize(loss)\n"
      ],
      "execution_count": 15,
      "outputs": []
    },
    {
      "cell_type": "markdown",
      "metadata": {
        "id": "5nfkJiyXsbDX"
      },
      "source": [
        "## Problem evaluation with either Precision, Accuracy, f1_score, roc_auc"
      ]
    },
    {
      "cell_type": "code",
      "metadata": {
        "id": "hC3OCCsMsSFW"
      },
      "source": [
        "with tf.name_scope('precision'):\n",
        "\n",
        "  prediction= tf.argmax(logits, 1)\n",
        "  actual= tf.argmax(y,1)\n",
        "\n",
        "  # Calculating True Positive, True Negative, False Positive, False Negative\n",
        "  TP= tf.math.count_nonzero(prediction * actual)\n",
        "  TN= tf.math.count_nonzero((prediction-1) * (actual -1))\n",
        "  FP= tf.math.count_nonzero(prediction * (actual -1))\n",
        "  FN= tf.math.count_nonzero((prediction-1) * actual)\n",
        "\n",
        "  accuracy= (TP+TN)/(TP+TN+FP+FN)\n",
        "  precision= TP/(TP+FP)\n",
        "  Recall= TP/(TP+FN)\n",
        "  F1_Score= 2* (Recall * precision) / (Recall + precision)\n",
        "  init= tf.global_variables_initializer()\n",
        "  saver= tf.train.Saver()\n",
        "\n",
        "# Alternatively, tf.confusion_matrix can be used "
      ],
      "execution_count": 16,
      "outputs": []
    },
    {
      "cell_type": "markdown",
      "metadata": {
        "id": "5sdu8WaxuvUJ"
      },
      "source": [
        "## One hot encode the input y"
      ]
    },
    {
      "cell_type": "code",
      "metadata": {
        "id": "Qh9tOyavs9He"
      },
      "source": [
        "def one_hot(y):\n",
        "  frame= pd.DataFrame({'k':y.astype(np.float32)})\n",
        "  return pd.get_dummies(frame, columns= ['k'])"
      ],
      "execution_count": 17,
      "outputs": []
    },
    {
      "cell_type": "markdown",
      "metadata": {
        "id": "Nx05GBhQvNIS"
      },
      "source": [
        "## Train the Neural Network"
      ]
    },
    {
      "cell_type": "code",
      "metadata": {
        "colab": {
          "base_uri": "https://localhost:8080/",
          "height": 231
        },
        "id": "KDYL3eRDvHKM",
        "outputId": "1aedc0de-7c59-4ad9-a644-372713664ad7"
      },
      "source": [
        "n_epochs= 20\n",
        "batch_size= 50\n",
        "with tf.Session() as sess:\n",
        "  init.run()\n",
        "  max_acc= 0\n",
        "  acc_going_down= 0\n",
        "\n",
        "  for epoch in range(n_epochs):\n",
        "    batch_steps= 0\n",
        "    avg_loss= 0\n",
        "    total_loss= 0\n",
        "    total_batch= int (train_x.shape[0]/batch_size)\n",
        "\n",
        "    for batch_index in range(total_batch):\n",
        "      x_batch, y_batch= fetch_batch(batch_index)\n",
        "      _,l= sess.run([training_op, loss], feed_dict= {X: x_batch, y: one_hot(y_batch)})\n",
        "      batch_step+=1\n",
        "      total_loss +=1\n",
        "    if ((epoch)%10 == 0):\n",
        "      avg_loss= total_loss/batch_size  \n",
        "\n",
        "      print(\"Epoch:\", '%02d' % (epoch + 1), \"| Average Training Loss= {:.2f}\".format(avg_loss), \n",
        "            \"| F1_train_score= {:.2f}\".format(F1_Score.eval({X: train_x, y: one_hot(train_y)})),\n",
        "            \"| F1_test_score= {:.2f}\".format(F1_Score.eval({X: val_x, y: one_hot(val_y)})))\n",
        "      print(\"Model Fit Completed\")\n",
        "      print(\"Final Training FI_Score:  {:.2f}\".format(F1_Score.eval({X: train_x, y: one_hot(train_y)})))\n",
        "      print(\"Final Validation FI_Score:  {:.2f}\".format(F1_Score.eval({X: val_x, y: one_hot(val_y)})))\n"
      ],
      "execution_count": 18,
      "outputs": [
        {
          "output_type": "error",
          "ename": "TypeError",
          "evalue": "ignored",
          "traceback": [
            "\u001b[0;31m---------------------------------------------------------------------------\u001b[0m",
            "\u001b[0;31mTypeError\u001b[0m                                 Traceback (most recent call last)",
            "\u001b[0;32m<ipython-input-18-57b720c57445>\u001b[0m in \u001b[0;36m<module>\u001b[0;34m()\u001b[0m\n\u001b[1;32m     13\u001b[0m \u001b[0;34m\u001b[0m\u001b[0m\n\u001b[1;32m     14\u001b[0m     \u001b[0;32mfor\u001b[0m \u001b[0mbatch_index\u001b[0m \u001b[0;32min\u001b[0m \u001b[0mrange\u001b[0m\u001b[0;34m(\u001b[0m\u001b[0mtotal_batch\u001b[0m\u001b[0;34m)\u001b[0m\u001b[0;34m:\u001b[0m\u001b[0;34m\u001b[0m\u001b[0;34m\u001b[0m\u001b[0m\n\u001b[0;32m---> 15\u001b[0;31m       \u001b[0mx_batch\u001b[0m\u001b[0;34m,\u001b[0m \u001b[0my_batch\u001b[0m\u001b[0;34m=\u001b[0m \u001b[0mfetch_batch\u001b[0m\u001b[0;34m(\u001b[0m\u001b[0mbatch_index\u001b[0m\u001b[0;34m)\u001b[0m\u001b[0;34m\u001b[0m\u001b[0;34m\u001b[0m\u001b[0m\n\u001b[0m\u001b[1;32m     16\u001b[0m       \u001b[0m_\u001b[0m\u001b[0;34m,\u001b[0m\u001b[0ml\u001b[0m\u001b[0;34m=\u001b[0m \u001b[0msess\u001b[0m\u001b[0;34m.\u001b[0m\u001b[0mrun\u001b[0m\u001b[0;34m(\u001b[0m\u001b[0;34m[\u001b[0m\u001b[0mtraining_op\u001b[0m\u001b[0;34m,\u001b[0m \u001b[0mloss\u001b[0m\u001b[0;34m]\u001b[0m\u001b[0;34m,\u001b[0m \u001b[0mfeed_dict\u001b[0m\u001b[0;34m=\u001b[0m \u001b[0;34m{\u001b[0m\u001b[0mX\u001b[0m\u001b[0;34m:\u001b[0m \u001b[0mx_batch\u001b[0m\u001b[0;34m,\u001b[0m \u001b[0my\u001b[0m\u001b[0;34m:\u001b[0m \u001b[0mone_hot\u001b[0m\u001b[0;34m(\u001b[0m\u001b[0my_batch\u001b[0m\u001b[0;34m)\u001b[0m\u001b[0;34m}\u001b[0m\u001b[0;34m)\u001b[0m\u001b[0;34m\u001b[0m\u001b[0;34m\u001b[0m\u001b[0m\n\u001b[1;32m     17\u001b[0m       \u001b[0mbatch_step\u001b[0m\u001b[0;34m+=\u001b[0m\u001b[0;36m1\u001b[0m\u001b[0;34m\u001b[0m\u001b[0;34m\u001b[0m\u001b[0m\n",
            "\u001b[0;31mTypeError\u001b[0m: 'NoneType' object is not iterable"
          ]
        }
      ]
    },
    {
      "cell_type": "markdown",
      "metadata": {
        "id": "7JCTVxIFBldx"
      },
      "source": [
        "# Keras In Tensorflow"
      ]
    },
    {
      "cell_type": "code",
      "metadata": {
        "id": "vr1AkK88zlmV",
        "colab": {
          "base_uri": "https://localhost:8080/"
        },
        "outputId": "efb44da7-f872-47fe-d996-06ea748d4deb"
      },
      "source": [
        "from keras.backend import clear_session\n",
        "clear_session()\n",
        "from tensorflow.compat.v1 import keras\n",
        "from tensorflow.keras import layers\n",
        "\n",
        "import datetime\n",
        "logdir= \"logs/scalars/\" + datetime.datetime.now().strftime(\"%Y%m%d-%H%M%S\")\n",
        "tensorboard_callback= keras.callbacks.TensorBoard(log_dir= logdir)\n",
        "\n",
        "model= tf.keras.Sequential()\n",
        "model.add(layers.Dense(400, input_shape=(11,), activation= 'relu'))\n",
        "model.add(layers.Dense(50, activation= 'relu'))\n",
        "model.add(layers.Dense(2, activation= 'softmax'))\n",
        "\n",
        "#model compilation\n",
        "model.compile(optimizer= tf.train.GradientDescentOptimizer(learning_rate= 0.01),\n",
        "              loss= tf.keras.losses.CategoricalCrossentropy(from_logits= True),\n",
        "              metrics= ['accuracy'])\n",
        "\n",
        "#fitting the model\n",
        "from keras.utils import to_categorical\n",
        "y_binary= to_categorical(train_y)\n",
        "y_k= to_categorical(val_y)\n",
        "history = model.fit(train_x, y_binary, epochs= 50, batch_size= 50, \n",
        "             validation_data= (val_x, y_k),\n",
        "             callbacks= [tensorboard_callback])"
      ],
      "execution_count": 19,
      "outputs": [
        {
          "output_type": "stream",
          "text": [
            "Train on 712 samples, validate on 179 samples\n",
            "Epoch 1/50\n",
            "\r 50/712 [=>............................] - ETA: 0s - loss: 1.0128 - accuracy: 0.3000WARNING:tensorflow:Callbacks method `on_train_batch_begin` is slow compared to the batch time (batch time: 0.0051s vs `on_train_batch_begin` time: 0.0088s). Check your callbacks.\n",
            "WARNING:tensorflow:From /usr/local/lib/python3.6/dist-packages/tensorflow/python/keras/engine/training_v1.py:2048: Model.state_updates (from tensorflow.python.keras.engine.training) is deprecated and will be removed in a future version.\n",
            "Instructions for updating:\n",
            "This property should not be used in TensorFlow 2.0, as updates are applied automatically.\n",
            "712/712 [==============================] - 0s 101us/sample - loss: 0.9056 - accuracy: 0.4073 - val_loss: 0.9265 - val_accuracy: 0.3855\n",
            "Epoch 2/50\n",
            "712/712 [==============================] - 0s 35us/sample - loss: 0.8415 - accuracy: 0.4691 - val_loss: 0.8338 - val_accuracy: 0.4804\n",
            "Epoch 3/50\n",
            "712/712 [==============================] - 0s 34us/sample - loss: 0.7417 - accuracy: 0.5702 - val_loss: 0.7902 - val_accuracy: 0.5196\n",
            "Epoch 4/50\n",
            "712/712 [==============================] - 0s 34us/sample - loss: 0.7164 - accuracy: 0.5955 - val_loss: 0.6933 - val_accuracy: 0.6201\n",
            "Epoch 5/50\n",
            "712/712 [==============================] - 0s 35us/sample - loss: 0.6977 - accuracy: 0.6152 - val_loss: 0.6987 - val_accuracy: 0.6145\n",
            "Epoch 6/50\n",
            "712/712 [==============================] - 0s 36us/sample - loss: 0.6967 - accuracy: 0.6166 - val_loss: 0.6987 - val_accuracy: 0.6145\n",
            "Epoch 7/50\n",
            "712/712 [==============================] - 0s 35us/sample - loss: 0.6967 - accuracy: 0.6166 - val_loss: 0.6987 - val_accuracy: 0.6145\n",
            "Epoch 8/50\n",
            "712/712 [==============================] - 0s 41us/sample - loss: 0.6967 - accuracy: 0.6166 - val_loss: 0.6987 - val_accuracy: 0.6145\n",
            "Epoch 9/50\n",
            "712/712 [==============================] - 0s 38us/sample - loss: 0.6967 - accuracy: 0.6166 - val_loss: 0.6987 - val_accuracy: 0.6145\n",
            "Epoch 10/50\n",
            "712/712 [==============================] - 0s 35us/sample - loss: 0.6967 - accuracy: 0.6166 - val_loss: 0.6987 - val_accuracy: 0.6145\n",
            "Epoch 11/50\n",
            "712/712 [==============================] - 0s 35us/sample - loss: 0.6967 - accuracy: 0.6166 - val_loss: 0.6987 - val_accuracy: 0.6145\n",
            "Epoch 12/50\n",
            "712/712 [==============================] - 0s 44us/sample - loss: 0.6967 - accuracy: 0.6166 - val_loss: 0.6987 - val_accuracy: 0.6145\n",
            "Epoch 13/50\n",
            "712/712 [==============================] - 0s 43us/sample - loss: 0.6967 - accuracy: 0.6166 - val_loss: 0.6987 - val_accuracy: 0.6145\n",
            "Epoch 14/50\n",
            "712/712 [==============================] - 0s 38us/sample - loss: 0.6967 - accuracy: 0.6166 - val_loss: 0.6987 - val_accuracy: 0.6145\n",
            "Epoch 15/50\n",
            "712/712 [==============================] - 0s 37us/sample - loss: 0.6967 - accuracy: 0.6166 - val_loss: 0.6987 - val_accuracy: 0.6145\n",
            "Epoch 16/50\n",
            "712/712 [==============================] - 0s 38us/sample - loss: 0.6967 - accuracy: 0.6166 - val_loss: 0.6987 - val_accuracy: 0.6145\n",
            "Epoch 17/50\n",
            "712/712 [==============================] - 0s 44us/sample - loss: 0.6967 - accuracy: 0.6166 - val_loss: 0.6987 - val_accuracy: 0.6145\n",
            "Epoch 18/50\n",
            "712/712 [==============================] - 0s 38us/sample - loss: 0.6967 - accuracy: 0.6166 - val_loss: 0.6987 - val_accuracy: 0.6145\n",
            "Epoch 19/50\n",
            "712/712 [==============================] - 0s 39us/sample - loss: 0.6967 - accuracy: 0.6166 - val_loss: 0.6987 - val_accuracy: 0.6145\n",
            "Epoch 20/50\n",
            "712/712 [==============================] - 0s 37us/sample - loss: 0.6967 - accuracy: 0.6166 - val_loss: 0.6987 - val_accuracy: 0.6145\n",
            "Epoch 21/50\n",
            "712/712 [==============================] - 0s 38us/sample - loss: 0.6967 - accuracy: 0.6166 - val_loss: 0.6987 - val_accuracy: 0.6145\n",
            "Epoch 22/50\n",
            "712/712 [==============================] - 0s 38us/sample - loss: 0.6967 - accuracy: 0.6166 - val_loss: 0.6987 - val_accuracy: 0.6145\n",
            "Epoch 23/50\n",
            "712/712 [==============================] - 0s 37us/sample - loss: 0.6967 - accuracy: 0.6166 - val_loss: 0.6987 - val_accuracy: 0.6145\n",
            "Epoch 24/50\n",
            "712/712 [==============================] - 0s 39us/sample - loss: 0.6967 - accuracy: 0.6166 - val_loss: 0.6987 - val_accuracy: 0.6145\n",
            "Epoch 25/50\n",
            "712/712 [==============================] - 0s 36us/sample - loss: 0.6967 - accuracy: 0.6166 - val_loss: 0.6987 - val_accuracy: 0.6145\n",
            "Epoch 26/50\n",
            "712/712 [==============================] - 0s 34us/sample - loss: 0.6967 - accuracy: 0.6166 - val_loss: 0.6987 - val_accuracy: 0.6145\n",
            "Epoch 27/50\n",
            "712/712 [==============================] - 0s 38us/sample - loss: 0.6967 - accuracy: 0.6166 - val_loss: 0.6987 - val_accuracy: 0.6145\n",
            "Epoch 28/50\n",
            "712/712 [==============================] - 0s 37us/sample - loss: 0.6967 - accuracy: 0.6166 - val_loss: 0.6987 - val_accuracy: 0.6145\n",
            "Epoch 29/50\n",
            "712/712 [==============================] - 0s 39us/sample - loss: 0.6967 - accuracy: 0.6166 - val_loss: 0.6987 - val_accuracy: 0.6145\n",
            "Epoch 30/50\n",
            "712/712 [==============================] - 0s 58us/sample - loss: 0.6967 - accuracy: 0.6166 - val_loss: 0.6987 - val_accuracy: 0.6145\n",
            "Epoch 31/50\n",
            "712/712 [==============================] - 0s 35us/sample - loss: 0.6967 - accuracy: 0.6166 - val_loss: 0.6987 - val_accuracy: 0.6145\n",
            "Epoch 32/50\n",
            "712/712 [==============================] - 0s 36us/sample - loss: 0.6967 - accuracy: 0.6166 - val_loss: 0.6987 - val_accuracy: 0.6145\n",
            "Epoch 33/50\n",
            "712/712 [==============================] - 0s 38us/sample - loss: 0.6967 - accuracy: 0.6166 - val_loss: 0.6987 - val_accuracy: 0.6145\n",
            "Epoch 34/50\n",
            "712/712 [==============================] - 0s 35us/sample - loss: 0.6967 - accuracy: 0.6166 - val_loss: 0.6987 - val_accuracy: 0.6145\n",
            "Epoch 35/50\n",
            "712/712 [==============================] - 0s 39us/sample - loss: 0.6967 - accuracy: 0.6166 - val_loss: 0.6987 - val_accuracy: 0.6145\n",
            "Epoch 36/50\n",
            "712/712 [==============================] - 0s 36us/sample - loss: 0.6967 - accuracy: 0.6166 - val_loss: 0.6987 - val_accuracy: 0.6145\n",
            "Epoch 37/50\n",
            "712/712 [==============================] - 0s 41us/sample - loss: 0.6967 - accuracy: 0.6166 - val_loss: 0.6987 - val_accuracy: 0.6145\n",
            "Epoch 38/50\n",
            "712/712 [==============================] - 0s 38us/sample - loss: 0.6967 - accuracy: 0.6166 - val_loss: 0.6987 - val_accuracy: 0.6145\n",
            "Epoch 39/50\n",
            "712/712 [==============================] - 0s 42us/sample - loss: 0.6967 - accuracy: 0.6166 - val_loss: 0.6987 - val_accuracy: 0.6145\n",
            "Epoch 40/50\n",
            "712/712 [==============================] - 0s 36us/sample - loss: 0.6967 - accuracy: 0.6166 - val_loss: 0.6987 - val_accuracy: 0.6145\n",
            "Epoch 41/50\n",
            "712/712 [==============================] - 0s 37us/sample - loss: 0.6967 - accuracy: 0.6166 - val_loss: 0.6987 - val_accuracy: 0.6145\n",
            "Epoch 42/50\n",
            "712/712 [==============================] - 0s 40us/sample - loss: 0.6967 - accuracy: 0.6166 - val_loss: 0.6987 - val_accuracy: 0.6145\n",
            "Epoch 43/50\n",
            "712/712 [==============================] - 0s 37us/sample - loss: 0.6967 - accuracy: 0.6166 - val_loss: 0.6987 - val_accuracy: 0.6145\n",
            "Epoch 44/50\n",
            "712/712 [==============================] - 0s 41us/sample - loss: 0.6967 - accuracy: 0.6166 - val_loss: 0.6987 - val_accuracy: 0.6145\n",
            "Epoch 45/50\n",
            "712/712 [==============================] - 0s 43us/sample - loss: 0.6967 - accuracy: 0.6166 - val_loss: 0.6987 - val_accuracy: 0.6145\n",
            "Epoch 46/50\n",
            "712/712 [==============================] - 0s 43us/sample - loss: 0.6967 - accuracy: 0.6166 - val_loss: 0.6987 - val_accuracy: 0.6145\n",
            "Epoch 47/50\n",
            "712/712 [==============================] - 0s 52us/sample - loss: 0.6967 - accuracy: 0.6166 - val_loss: 0.6987 - val_accuracy: 0.6145\n",
            "Epoch 48/50\n",
            "712/712 [==============================] - 0s 41us/sample - loss: 0.6967 - accuracy: 0.6166 - val_loss: 0.6987 - val_accuracy: 0.6145\n",
            "Epoch 49/50\n",
            "712/712 [==============================] - 0s 40us/sample - loss: 0.6967 - accuracy: 0.6166 - val_loss: 0.6987 - val_accuracy: 0.6145\n",
            "Epoch 50/50\n",
            "712/712 [==============================] - 0s 39us/sample - loss: 0.6967 - accuracy: 0.6166 - val_loss: 0.6987 - val_accuracy: 0.6145\n"
          ],
          "name": "stdout"
        }
      ]
    },
    {
      "cell_type": "markdown",
      "metadata": {
        "id": "l3M4yiF1F_HM"
      },
      "source": [
        "# TensorBoard Visualization\n",
        "\n",
        "It gives us the flexibility of visualizing the training parameters, metrics or any statistics in our neural network. \n",
        "Code below shows how to launch it"
      ]
    },
    {
      "cell_type": "code",
      "metadata": {
        "id": "0dX3UugrE65f"
      },
      "source": [
        "import datetime, os\n",
        "import tensorboard\n",
        "%load_ext tensorboard\n",
        "\n",
        "#%reload_ext tensorboard\n",
        "#logs_base_dir= './logs'\n",
        "#os.makedirs(logs_base_dir, exist_ok= True)\n",
        "#%tensorboard --logdir {logs_base_dir} --host localhost --port 8008"
      ],
      "execution_count": 20,
      "outputs": []
    },
    {
      "cell_type": "code",
      "metadata": {
        "colab": {
          "base_uri": "https://localhost:8080/",
          "height": 315
        },
        "id": "gYsmUzboInJe",
        "outputId": "fe20a6f9-ee74-4410-a832-448168d93d1a"
      },
      "source": [
        "import matplotlib.pyplot as plt\n",
        "\n",
        "acc = history.history['accuracy']\n",
        "val_acc = history.history['val_accuracy']\n",
        "loss = history.history['loss']\n",
        "val_loss = history.history['val_loss']\n",
        "\n",
        "epochs = range(1, len(acc) + 1)\n",
        "\n",
        "plt.plot(epochs, loss, 'bo', label='Training loss')\n",
        "plt.plot(epochs, val_loss, 'b', label='Validation loss')\n",
        "plt.title('Training and validation loss')\n",
        "plt.legend()\n",
        "plt.figure()\n"
      ],
      "execution_count": 21,
      "outputs": [
        {
          "output_type": "execute_result",
          "data": {
            "text/plain": [
              "<Figure size 432x288 with 0 Axes>"
            ]
          },
          "metadata": {
            "tags": []
          },
          "execution_count": 21
        },
        {
          "output_type": "display_data",
          "data": {
            "image/png": "[encoded data removed]",
            "text/plain": [
              "<Figure size 432x288 with 1 Axes>"
            ]
          },
          "metadata": {
            "tags": [],
            "needs_background": "light"
          }
        },
        {
          "output_type": "display_data",
          "data": {
            "text/plain": [
              "<Figure size 432x288 with 0 Axes>"
            ]
          },
          "metadata": {
            "tags": []
          }
        }
      ]
    },
    {
      "cell_type": "code",
      "metadata": {
        "colab": {
          "base_uri": "https://localhost:8080/",
          "height": 315
        },
        "id": "YOuFc1enJZtK",
        "outputId": "2e7e3f15-1d58-428d-ecbc-9ad04fe0b370"
      },
      "source": [
        "plt.plot(epochs, acc, 'bo', label='Training acc')\n",
        "plt.plot(epochs, val_acc, 'b', label='Validation acc')\n",
        "plt.title('Training and validation accuracy')\n",
        "plt.legend()\n",
        "plt.figure()"
      ],
      "execution_count": 22,
      "outputs": [
        {
          "output_type": "execute_result",
          "data": {
            "text/plain": [
              "<Figure size 432x288 with 0 Axes>"
            ]
          },
          "metadata": {
            "tags": []
          },
          "execution_count": 22
        },
        {
          "output_type": "display_data",
          "data": {
            "image/png": "[encoded data removed]",
            "text/plain": [
              "<Figure size 432x288 with 1 Axes>"
            ]
          },
          "metadata": {
            "tags": [],
            "needs_background": "light"
          }
        },
        {
          "output_type": "display_data",
          "data": {
            "text/plain": [
              "<Figure size 432x288 with 0 Axes>"
            ]
          },
          "metadata": {
            "tags": []
          }
        }
      ]
    },
    {
      "cell_type": "code",
      "metadata": {
        "id": "HpTlxjBOKU9N"
      },
      "source": [
        ""
      ],
      "execution_count": null,
      "outputs": []
    }
  ]
}